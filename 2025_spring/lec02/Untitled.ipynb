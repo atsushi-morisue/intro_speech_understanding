{
 "cells": [
  {
   "cell_type": "code",
   "execution_count": null,
   "id": "131f40f8-fd88-433c-b7f4-953be77496bd",
   "metadata": {},
   "outputs": [],
   "source": []
  }
 ],
 "metadata": {
  "kernelspec": {
   "display_name": "",
   "name": ""
  },
  "language_info": {
   "name": ""
  }
 },
 "nbformat": 4,
 "nbformat_minor": 5
}
